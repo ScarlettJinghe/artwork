{
  "nbformat": 4,
  "nbformat_minor": 0,
  "metadata": {
    "colab": {
      "name": "Untitled1.ipynb",
      "provenance": [],
      "collapsed_sections": [],
      "authorship_tag": "ABX9TyNv7N+I2lf6gsxcm6oRQomS",
      "include_colab_link": true
    },
    "kernelspec": {
      "name": "python3",
      "display_name": "Python 3"
    }
  },
  "cells": [
    {
      "cell_type": "markdown",
      "metadata": {
        "id": "view-in-github",
        "colab_type": "text"
      },
      "source": [
        "<a href=\"https://colab.research.google.com/github/ScarlettJinghe/artwork/blob/master/Untitled1.ipynb\" target=\"_parent\"><img src=\"https://colab.research.google.com/assets/colab-badge.svg\" alt=\"Open In Colab\"/></a>"
      ]
    },
    {
      "cell_type": "markdown",
      "metadata": {
        "id": "2WL15JCu4F82",
        "colab_type": "text"
      },
      "source": [
        "# Do you like using Jupyter Notebooks?"
      ]
    },
    {
      "cell_type": "markdown",
      "metadata": {
        "id": "t550b6gnfNtw",
        "colab_type": "text"
      },
      "source": [
        "Yes,I do."
      ]
    },
    {
      "cell_type": "markdown",
      "metadata": {
        "id": "nkOlyg_o1294",
        "colab_type": "text"
      },
      "source": [
        "No,I don't."
      ]
    },
    {
      "cell_type": "markdown",
      "metadata": {
        "id": "OV3fSzde39tI",
        "colab_type": "text"
      },
      "source": [
        "# What do you want to learn more about in Jupyter Notebooks?"
      ]
    },
    {
      "cell_type": "markdown",
      "metadata": {
        "id": "8-uH7Bq2fitO",
        "colab_type": "text"
      },
      "source": [
        "What can Jupyter Notebooks do?"
      ]
    },
    {
      "cell_type": "markdown",
      "metadata": {
        "id": "HMbYZ9Ml2RmH",
        "colab_type": "text"
      },
      "source": [
        "Do you think Jupyter Notebooks is useful?"
      ]
    },
    {
      "cell_type": "markdown",
      "metadata": {
        "id": "D_M_ZUVj7jOD",
        "colab_type": "text"
      },
      "source": [
        "![artwork](https://raw.githubusercontent.com/ScarlettJinghe/artwork/master/artwork/IMG_6186.jpg)"
      ]
    }
  ]
}